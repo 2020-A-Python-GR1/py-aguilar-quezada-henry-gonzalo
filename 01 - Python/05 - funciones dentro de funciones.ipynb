{
 "cells": [
  {
   "cell_type": "code",
   "execution_count": 6,
   "metadata": {
    "tags": []
   },
   "outputs": [
    {
     "output_type": "stream",
     "name": "stdout",
     "text": "5\n"
    }
   ],
   "source": [
    "def calculadora(num_uno, num_dos, operacion = \"suma\"):\n",
    "    \n",
    "    \n",
    "    def suma():\n",
    "        return num_uno + num_dos\n",
    "\n",
    "    def resta():\n",
    "        return num_uno - num_dos\n",
    "\n",
    "    def multiplicacion():\n",
    "        return num_uno * num_dos\n",
    "\n",
    "    def division():\n",
    "        return num_uno / num_dos\n",
    "\n",
    "    def devolver_respuesta():\n",
    "        opciones = {\n",
    "            \"suma\": suma,\n",
    "            \"resta\": resta,\n",
    "            \"multiplicacion\": multiplicacion,\n",
    "            \"division\": division\n",
    "        }\n",
    "\n",
    "        return opciones[operacion]()\n",
    "\n",
    "    return devolver_respuesta()\n",
    "\n",
    "print(calculadora(2,3))"
   ]
  },
  {
   "cell_type": "code",
   "execution_count": 7,
   "metadata": {
    "tags": []
   },
   "outputs": [
    {
     "output_type": "stream",
     "name": "stdout",
     "text": "28\n<class 'str'>\n"
    }
   ],
   "source": [
    "edad = input(\"Dime tu edad\")\n",
    "print(edad)\n",
    "print(type(edad))"
   ]
  },
  {
   "cell_type": "code",
   "execution_count": null,
   "metadata": {},
   "outputs": [],
   "source": []
  }
 ],
 "metadata": {
  "language_info": {
   "codemirror_mode": {
    "name": "ipython",
    "version": 3
   },
   "file_extension": ".py",
   "mimetype": "text/x-python",
   "name": "python",
   "nbconvert_exporter": "python",
   "pygments_lexer": "ipython3",
   "version": "3.7.6-final"
  },
  "orig_nbformat": 2,
  "kernelspec": {
   "name": "python3",
   "display_name": "Python 3"
  }
 },
 "nbformat": 4,
 "nbformat_minor": 2
}