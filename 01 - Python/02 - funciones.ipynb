{
 "cells": [
  {
   "cell_type": "code",
   "execution_count": 1,
   "metadata": {
    "tags": []
   },
   "outputs": [
    {
     "output_type": "stream",
     "name": "stdout",
     "text": "Hola mundo\n"
    },
    {
     "output_type": "execute_result",
     "data": {
      "text/plain": "NoneType"
     },
     "metadata": {},
     "execution_count": 1
    }
   ],
   "source": [
    "# Funciones\n",
    "def hola_mundo():\n",
    "    print(\"Hola mundo\")\n",
    "type(hola_mundo())"
   ]
  },
  {
   "cell_type": "code",
   "execution_count": 4,
   "metadata": {
    "tags": []
   },
   "outputs": [
    {
     "output_type": "stream",
     "name": "stdout",
     "text": "La suma de 2 y 3 es igual a 5\n"
    }
   ],
   "source": [
    "def sumar_dos_numeros(num_uno, num_dos):\n",
    "    return num_uno + num_dos\n",
    "#print(sumar_dos_numeros(2,3))\n",
    "total_suma = sumar_dos_numeros(2,3)\n",
    "print(f\"La suma de 2 y 3 es igual a {total_suma}\")"
   ]
  },
  {
   "cell_type": "code",
   "execution_count": 5,
   "metadata": {
    "tags": []
   },
   "outputs": [
    {
     "output_type": "stream",
     "name": "stdout",
     "text": "Universidad: EPN\nUniversidad: ESPE\n"
    }
   ],
   "source": [
    "def imprimir_universidad(nombre = \"EPN\"): #Parametros Opcionales\n",
    "    print(f\"Universidad: {nombre}\")         #Parametros por defecto\n",
    "imprimir_universidad()\n",
    "imprimir_universidad(\"ESPE\")"
   ]
  },
  {
   "cell_type": "code",
   "execution_count": 7,
   "metadata": {
    "tags": []
   },
   "outputs": [
    {
     "output_type": "stream",
     "name": "stdout",
     "text": "Color: Blanco\nPlaca: ABC-1234\nHorse Power: 3000\nAño: 1989\n"
    }
   ],
   "source": [
    "#REGLA: 1) Parametros Requeridos\n",
    "#       2) Parametros Opcionales\n",
    "def imprimir_carro(color, placa, hp, anio = 1989):\n",
    "    print(f\"Color: {color}\")\n",
    "    print(f\"Placa: {placa}\")\n",
    "    print(f\"Horse Power: {hp}\")\n",
    "    print(f\"Año: {anio}\")\n",
    "imprimir_carro(\"Blanco\", \"ABC-1234\",3000)"
   ]
  },
  {
   "cell_type": "code",
   "execution_count": 8,
   "metadata": {
    "tags": []
   },
   "outputs": [
    {
     "output_type": "stream",
     "name": "stdout",
     "text": "Color: Blanco\nPlaca: DEF-456\nHorse Power: 2500\nAño: 1998\n"
    }
   ],
   "source": [
    "# Named Parameters (Parametros Nombrados)\n",
    "imprimir_carro(anio = 1998,\n",
    "                placa = \"DEF-456\",\n",
    "                hp = 2500,\n",
    "                color= \"Blanco\")"
   ]
  },
  {
   "cell_type": "code",
   "execution_count": 9,
   "metadata": {
    "tags": []
   },
   "outputs": [
    {
     "output_type": "stream",
     "name": "stdout",
     "text": "Color: Negro\nPlaca: ABC-123\nHorse Power: 27272\nAño: 1995\n"
    }
   ],
   "source": [
    "# REGLA PODEMOS usar parametros por posicion y LUEGO TODOS LOS DEMAS\n",
    "#       PODEMOS usar parametros nombrados\n",
    "imprimir_carro(\"Negro\", \"ABC-123\", anio = 1995, hp= 27272)"
   ]
  },
  {
   "cell_type": "code",
   "execution_count": 19,
   "metadata": {
    "tags": []
   },
   "outputs": [
    {
     "output_type": "execute_result",
     "data": {
      "text/plain": "11"
     },
     "metadata": {},
     "execution_count": 19
    }
   ],
   "source": [
    "def sumar_numeros(primer_numero,\n",
    "                *numeros): #Parametros Infinitos\n",
    "    suma = primer_numero\n",
    "    for numero in numeros:\n",
    "        suma += numero\n",
    "    return suma\n",
    "sumar_numeros(1,2,1,2,2,1,2)"
   ]
  },
  {
   "cell_type": "code",
   "execution_count": 22,
   "metadata": {
    "tags": []
   },
   "outputs": [
    {
     "output_type": "stream",
     "name": "stdout",
     "text": "{'saludo': 'Hola', 'mensaje': 'mundo'}\n<class 'dict'>\n"
    }
   ],
   "source": [
    "def establecer_configuracion(**kwargs): #Key Word Aguments\n",
    "    print(kwargs)                        #Parametros Nombrados\n",
    "    print(type(kwargs))\n",
    "establecer_configuracion(saludo = \"Hola\", mensaje = \"mundo\")"
   ]
  },
  {
   "cell_type": "code",
   "execution_count": null,
   "metadata": {},
   "outputs": [],
   "source": [
    "def ejemplo(requerido_uno,\n",
    "            requerido_dos,\n",
    "            opcional_uno = 1,\n",
    "            opcional_dos = 2,\n",
    "            *infinitos,\n",
    "            **kwargs):\n",
    "    print(\":)\")"
   ]
  },
  {
   "cell_type": "code",
   "execution_count": 23,
   "metadata": {
    "tags": []
   },
   "outputs": [
    {
     "output_type": "stream",
     "name": "stdout",
     "text": "(1, 2, 3)\n{'saludo': 'Hola', 'mensaje': 'mundo'}\n"
    }
   ],
   "source": [
    "def establecer_configuracion(*infinito,**kwargs): #Key Word Aguments\n",
    "    print(infinito)\n",
    "    print(kwargs)      \n",
    "establecer_configuracion(1,2,3,saludo = \"Hola\", mensaje = \"mundo\")"
   ]
  },
  {
   "cell_type": "code",
   "execution_count": null,
   "metadata": {},
   "outputs": [],
   "source": []
  }
 ],
 "metadata": {
  "language_info": {
   "codemirror_mode": {
    "name": "ipython",
    "version": 3
   },
   "file_extension": ".py",
   "mimetype": "text/x-python",
   "name": "python",
   "nbconvert_exporter": "python",
   "pygments_lexer": "ipython3",
   "version": "3.7.6-final"
  },
  "orig_nbformat": 2,
  "kernelspec": {
   "name": "python3",
   "display_name": "Python 3"
  }
 },
 "nbformat": 4,
 "nbformat_minor": 2
}