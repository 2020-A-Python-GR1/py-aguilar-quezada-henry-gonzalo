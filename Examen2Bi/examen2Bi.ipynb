{
 "metadata": {
  "language_info": {
   "codemirror_mode": {
    "name": "ipython",
    "version": 3
   },
   "file_extension": ".py",
   "mimetype": "text/x-python",
   "name": "python",
   "nbconvert_exporter": "python",
   "pygments_lexer": "ipython3",
   "version": "3.7.7-final"
  },
  "orig_nbformat": 2,
  "kernelspec": {
   "name": "python_defaultSpec_1600776584234",
   "display_name": "Python 3.7.7 64-bit ('base': conda)"
  }
 },
 "nbformat": 4,
 "nbformat_minor": 2,
 "cells": [
  {
   "cell_type": "code",
   "execution_count": 36,
   "metadata": {},
   "outputs": [],
   "source": [
    "import pandas as pd\n",
    "import os\n",
    "import numpy as np\n",
    "from datetime import timedelta, datetime\n",
    "from datetime import date"
   ]
  },
  {
   "cell_type": "code",
   "execution_count": 37,
   "metadata": {
    "tags": []
   },
   "outputs": [
    {
     "output_type": "stream",
     "name": "stdout",
     "text": "0  1  2  3  4  5\n0  6  5  3  7  1  6\n1  8  6  8  8  5  6\n2  6  3  9  2  4  8\n3  9  8  9  1  8  6\n4  4  3  7  2  7  8\n\n\n   0  1  2  3  4  5\n5  8  1  7  1  3  8\n6  6  4  7  3  2  5\n7  2  9  6  5  8  8\n8  4  6  8  4  5  3\n9  4  2  8  5  4  7\n"
    }
   ],
   "source": [
    "#  Examen\n",
    "\n",
    "## 1) Crea un Dataframe de 10 registros y 6 columnas y consigue las 5 primeros y los 5 ultimos registros\n",
    "\n",
    "dataFrame = pd.DataFrame(np.random.randint(1, 10,60).reshape(10,6))\n",
    "dataFrame\n",
    "\n",
    "print(dataFrame[:5])\n",
    "print(\"\\n\")\n",
    "print(dataFrame[5:])"
   ]
  },
  {
   "cell_type": "code",
   "execution_count": 41,
   "metadata": {},
   "outputs": [
    {
     "output_type": "execute_result",
     "data": {
      "text/plain": "            A  B  C  D\n2020-09-22  7  7  6  1\n2020-09-21  4  9  8  6\n2020-09-20  8  4  2  8\n2020-09-19  5  3  3  1\n2020-09-18  6  3  2  7\n2020-09-17  3  3  9  5",
      "text/html": "<div>\n<style scoped>\n    .dataframe tbody tr th:only-of-type {\n        vertical-align: middle;\n    }\n\n    .dataframe tbody tr th {\n        vertical-align: top;\n    }\n\n    .dataframe thead th {\n        text-align: right;\n    }\n</style>\n<table border=\"1\" class=\"dataframe\">\n  <thead>\n    <tr style=\"text-align: right;\">\n      <th></th>\n      <th>A</th>\n      <th>B</th>\n      <th>C</th>\n      <th>D</th>\n    </tr>\n  </thead>\n  <tbody>\n    <tr>\n      <th>2020-09-22</th>\n      <td>7</td>\n      <td>7</td>\n      <td>6</td>\n      <td>1</td>\n    </tr>\n    <tr>\n      <th>2020-09-21</th>\n      <td>4</td>\n      <td>9</td>\n      <td>8</td>\n      <td>6</td>\n    </tr>\n    <tr>\n      <th>2020-09-20</th>\n      <td>8</td>\n      <td>4</td>\n      <td>2</td>\n      <td>8</td>\n    </tr>\n    <tr>\n      <th>2020-09-19</th>\n      <td>5</td>\n      <td>3</td>\n      <td>3</td>\n      <td>1</td>\n    </tr>\n    <tr>\n      <th>2020-09-18</th>\n      <td>6</td>\n      <td>3</td>\n      <td>2</td>\n      <td>7</td>\n    </tr>\n    <tr>\n      <th>2020-09-17</th>\n      <td>3</td>\n      <td>3</td>\n      <td>9</td>\n      <td>5</td>\n    </tr>\n  </tbody>\n</table>\n</div>"
     },
     "metadata": {},
     "execution_count": 41
    }
   ],
   "source": [
    "\n",
    "## 2) Crear un dataframe pasando un arreglo de numpy de 6 x 4 con una fecha como indice y con columnas A, B, C, D randomico\n",
    "\n",
    "#```\n",
    "#                   A         B         C         D\n",
    "#2013-01-01  0.469112 -0.282863 -1.509059 -1.135632\n",
    "#2013-01-02  1.212112 -0.173215  0.119209 -1.044236\n",
    "#2013-01-03 -0.861849 -2.104569 -0.494929  1.071804\n",
    "#2013-01-04  0.721555 -0.706771 -1.039575  0.271860\n",
    "#2013-01-05 -0.424972  0.567020  0.276232 -1.087401\n",
    "#2013-01-06 -0.673690  0.113648 -1.478427  0.524988\n",
    "#```\n",
    "\n",
    "dataFrame2 = pd.DataFrame(np.random.randint(1, 10,24).reshape(6,4), columns=list('ABCD'),index = [datetime.today().date(), datetime.today().date() - timedelta(days=1) ,datetime.today().date() - timedelta(days=2),datetime.today().date() - timedelta(days=3), datetime.today().date() - timedelta(days=4), datetime.today().date() - timedelta(days=5)])\n",
    "dataFrame2\n",
    "\n"
   ]
  },
  {
   "cell_type": "code",
   "execution_count": 43,
   "metadata": {
    "tags": []
   },
   "outputs": [
    {
     "output_type": "stream",
     "name": "stdout",
     "text": "Dataframe:\n   a  b  c  d  e  f\n0  3  4  7  8  1  3\n1  5  4  9  4  5  7\n2  5  7  4  5  3  1\n3  4  1  4  7  3  7\n4  2  1  7  4  2  3\n5  8  3  1  4  2  1\n6  5  4  1  3  1  8\n7  4  7  4  4  4  8\n8  1  5  2  6  1  4\n9  9  9  5  1  2  2\nColumnas:\nIndex(['a', 'b', 'c', 'd', 'e', 'f'], dtype='object')\n\nValores:\n[[3 4 7 8 1 3]\n [5 4 9 4 5 7]\n [5 7 4 5 3 1]\n [4 1 4 7 3 7]\n [2 1 7 4 2 3]\n [8 3 1 4 2 1]\n [5 4 1 3 1 8]\n [4 7 4 4 4 8]\n [1 5 2 6 1 4]\n [9 9 5 1 2 2]]\n"
    }
   ],
   "source": [
    "## 4) Crear un Dataframe con 10 registros y 6 columnas y con una propiedad del Dataframe mostrar las columnas, con otro comando mostrar los valores.\n",
    "\n",
    "\n",
    "dataFrame4 = pd.DataFrame(np.random.randint(1, 10,60).reshape(10,6), columns=list('abcdef'))\n",
    "print('Dataframe:')\n",
    "print(dataFrame4)\n",
    "\n",
    "print('Columnas:')\n",
    "print(dataFrame4.columns)\n",
    "\n",
    "print('\\nValores:')\n",
    "print(dataFrame4.values)"
   ]
  },
  {
   "cell_type": "code",
   "execution_count": 44,
   "metadata": {},
   "outputs": [
    {
     "output_type": "execute_result",
     "data": {
      "text/plain": "               a          b          c          d          e          f\ncount  10.000000  10.000000  10.000000  10.000000  10.000000  10.000000\nmean    6.800000   3.400000   6.200000   3.800000   5.200000   3.700000\nstd     1.932184   1.505545   2.347576   2.440401   2.859681   2.002776\nmin     4.000000   1.000000   1.000000   1.000000   1.000000   1.000000\n25%     5.250000   2.250000   5.250000   2.250000   3.500000   2.000000\n50%     7.500000   3.500000   7.000000   3.000000   5.500000   3.500000\n75%     8.000000   4.000000   7.750000   4.000000   6.750000   5.000000\nmax     9.000000   6.000000   9.000000   9.000000   9.000000   7.000000",
      "text/html": "<div>\n<style scoped>\n    .dataframe tbody tr th:only-of-type {\n        vertical-align: middle;\n    }\n\n    .dataframe tbody tr th {\n        vertical-align: top;\n    }\n\n    .dataframe thead th {\n        text-align: right;\n    }\n</style>\n<table border=\"1\" class=\"dataframe\">\n  <thead>\n    <tr style=\"text-align: right;\">\n      <th></th>\n      <th>a</th>\n      <th>b</th>\n      <th>c</th>\n      <th>d</th>\n      <th>e</th>\n      <th>f</th>\n    </tr>\n  </thead>\n  <tbody>\n    <tr>\n      <th>count</th>\n      <td>10.000000</td>\n      <td>10.000000</td>\n      <td>10.000000</td>\n      <td>10.000000</td>\n      <td>10.000000</td>\n      <td>10.000000</td>\n    </tr>\n    <tr>\n      <th>mean</th>\n      <td>6.800000</td>\n      <td>3.400000</td>\n      <td>6.200000</td>\n      <td>3.800000</td>\n      <td>5.200000</td>\n      <td>3.700000</td>\n    </tr>\n    <tr>\n      <th>std</th>\n      <td>1.932184</td>\n      <td>1.505545</td>\n      <td>2.347576</td>\n      <td>2.440401</td>\n      <td>2.859681</td>\n      <td>2.002776</td>\n    </tr>\n    <tr>\n      <th>min</th>\n      <td>4.000000</td>\n      <td>1.000000</td>\n      <td>1.000000</td>\n      <td>1.000000</td>\n      <td>1.000000</td>\n      <td>1.000000</td>\n    </tr>\n    <tr>\n      <th>25%</th>\n      <td>5.250000</td>\n      <td>2.250000</td>\n      <td>5.250000</td>\n      <td>2.250000</td>\n      <td>3.500000</td>\n      <td>2.000000</td>\n    </tr>\n    <tr>\n      <th>50%</th>\n      <td>7.500000</td>\n      <td>3.500000</td>\n      <td>7.000000</td>\n      <td>3.000000</td>\n      <td>5.500000</td>\n      <td>3.500000</td>\n    </tr>\n    <tr>\n      <th>75%</th>\n      <td>8.000000</td>\n      <td>4.000000</td>\n      <td>7.750000</td>\n      <td>4.000000</td>\n      <td>6.750000</td>\n      <td>5.000000</td>\n    </tr>\n    <tr>\n      <th>max</th>\n      <td>9.000000</td>\n      <td>6.000000</td>\n      <td>9.000000</td>\n      <td>9.000000</td>\n      <td>9.000000</td>\n      <td>7.000000</td>\n    </tr>\n  </tbody>\n</table>\n</div>"
     },
     "metadata": {},
     "execution_count": 44
    }
   ],
   "source": [
    "## 5) Crear un Dataframe con 10 registros y 6 columnas y con una funcion del Dataframe describir estadisticamente el Dataframe\n",
    "\n",
    "dataFrame5 = pd.DataFrame(np.random.randint(1, 10,60).reshape(10,6), columns=list('abcdef'))\n",
    "dataFrame5.describe()"
   ]
  },
  {
   "cell_type": "code",
   "execution_count": 45,
   "metadata": {
    "tags": []
   },
   "outputs": [
    {
     "output_type": "stream",
     "name": "stdout",
     "text": "Dataframe\n   a  b  c  d  e  f\n0  8  6  2  2  9  8\n1  2  8  8  4  8  5\n2  3  3  7  6  6  4\n3  9  4  2  6  3  5\n4  1  2  8  3  2  5\n5  2  8  5  9  7  2\n6  8  3  5  4  5  4\n7  1  3  7  7  9  3\n8  5  9  9  7  9  8\n9  4  9  2  2  9  6\n\n Transpuesta\n   0  1  2  3  4  5  6  7  8  9\na  8  2  3  9  1  2  8  1  5  4\nb  6  8  3  4  2  8  3  3  9  9\nc  2  8  7  2  8  5  5  7  9  2\nd  2  4  6  6  3  9  4  7  7  2\ne  9  8  6  3  2  7  5  9  9  9\nf  8  5  4  5  5  2  4  3  8  6\n"
    }
   ],
   "source": [
    "\n",
    "## 6) Crear un Dataframe con 10 registros y 6 columnas y con una funcion del Dataframe transponer los datos\n",
    "\n",
    "dataFrame6 = pd.DataFrame(np.random.randint(1, 10,60).reshape(10,6), columns=list('abcdef'))\n",
    "print('Dataframe')\n",
    "print(dataFrame6)\n",
    "\n",
    "print('\\n Transpuesta')\n",
    "print(dataFrame6.transpose())\n"
   ]
  },
  {
   "cell_type": "code",
   "execution_count": 47,
   "metadata": {
    "tags": []
   },
   "outputs": [
    {
     "output_type": "stream",
     "name": "stdout",
     "text": "A  B  C  D  E  F\n0  2  4  7  6  3  4\n1  2  6  3  5  3  9\n2  5  2  8  6  7  8\n3  2  1  3  2  1  3\n4  1  9  6  2  4  8\n5  5  4  1  1  2  1\n6  1  9  8  1  5  6\n7  4  8  2  1  3  7\n8  8  6  3  7  4  2\n9  8  6  3  1  5  7\nOrdenado\n   A  B  C  D  E  F\n4  1  9  6  2  4  8\n6  1  9  8  1  5  6\n7  4  8  2  1  3  7\n8  8  6  3  7  4  2\n1  2  6  3  5  3  9\n9  8  6  3  1  5  7\n0  2  4  7  6  3  4\n5  5  4  1  1  2  1\n2  5  2  8  6  7  8\n3  2  1  3  2  1  3\n"
    }
   ],
   "source": [
    "## 7) Crear un Dataframe con 10 registros y 6 columnas y Ordenar el dataframe 1 vez por cada columna, ascendente y descendente\n",
    "\n",
    "dataFrame7 = pd.DataFrame(np.random.randint(1, 10,60).reshape(10,6), columns=list('ABCDEF'))\n",
    "print(dataFrame7)\n",
    "\n",
    "dataFrame7 = dataFrame7.sort_values(['A','C','E'],ascending=True)\n",
    "dataFrame7 = dataFrame7.sort_values(['B','D','F'],ascending=False)\n",
    "print(\"Ordenado\")\n",
    "print(dataFrame7)"
   ]
  },
  {
   "cell_type": "code",
   "execution_count": 50,
   "metadata": {},
   "outputs": [
    {
     "output_type": "execute_result",
     "data": {
      "text/plain": "      A     B     C     D     E     F\n0   NaN  10.0   NaN  10.0   9.0   9.0\n1   NaN   NaN  10.0   NaN   8.0   NaN\n2  10.0   NaN   NaN   NaN   8.0   NaN\n3  10.0   NaN   NaN   NaN   NaN   NaN\n4   NaN   NaN   NaN   NaN   9.0  10.0\n5   NaN   NaN   NaN   NaN   NaN   NaN\n6   NaN   NaN  10.0   NaN   NaN   NaN\n7   NaN   NaN   NaN   NaN   NaN   NaN\n8   NaN   NaN   NaN   NaN   NaN   NaN\n9   NaN   NaN  10.0   NaN  10.0   8.0",
      "text/html": "<div>\n<style scoped>\n    .dataframe tbody tr th:only-of-type {\n        vertical-align: middle;\n    }\n\n    .dataframe tbody tr th {\n        vertical-align: top;\n    }\n\n    .dataframe thead th {\n        text-align: right;\n    }\n</style>\n<table border=\"1\" class=\"dataframe\">\n  <thead>\n    <tr style=\"text-align: right;\">\n      <th></th>\n      <th>A</th>\n      <th>B</th>\n      <th>C</th>\n      <th>D</th>\n      <th>E</th>\n      <th>F</th>\n    </tr>\n  </thead>\n  <tbody>\n    <tr>\n      <th>0</th>\n      <td>NaN</td>\n      <td>10.0</td>\n      <td>NaN</td>\n      <td>10.0</td>\n      <td>9.0</td>\n      <td>9.0</td>\n    </tr>\n    <tr>\n      <th>1</th>\n      <td>NaN</td>\n      <td>NaN</td>\n      <td>10.0</td>\n      <td>NaN</td>\n      <td>8.0</td>\n      <td>NaN</td>\n    </tr>\n    <tr>\n      <th>2</th>\n      <td>10.0</td>\n      <td>NaN</td>\n      <td>NaN</td>\n      <td>NaN</td>\n      <td>8.0</td>\n      <td>NaN</td>\n    </tr>\n    <tr>\n      <th>3</th>\n      <td>10.0</td>\n      <td>NaN</td>\n      <td>NaN</td>\n      <td>NaN</td>\n      <td>NaN</td>\n      <td>NaN</td>\n    </tr>\n    <tr>\n      <th>4</th>\n      <td>NaN</td>\n      <td>NaN</td>\n      <td>NaN</td>\n      <td>NaN</td>\n      <td>9.0</td>\n      <td>10.0</td>\n    </tr>\n    <tr>\n      <th>5</th>\n      <td>NaN</td>\n      <td>NaN</td>\n      <td>NaN</td>\n      <td>NaN</td>\n      <td>NaN</td>\n      <td>NaN</td>\n    </tr>\n    <tr>\n      <th>6</th>\n      <td>NaN</td>\n      <td>NaN</td>\n      <td>10.0</td>\n      <td>NaN</td>\n      <td>NaN</td>\n      <td>NaN</td>\n    </tr>\n    <tr>\n      <th>7</th>\n      <td>NaN</td>\n      <td>NaN</td>\n      <td>NaN</td>\n      <td>NaN</td>\n      <td>NaN</td>\n      <td>NaN</td>\n    </tr>\n    <tr>\n      <th>8</th>\n      <td>NaN</td>\n      <td>NaN</td>\n      <td>NaN</td>\n      <td>NaN</td>\n      <td>NaN</td>\n      <td>NaN</td>\n    </tr>\n    <tr>\n      <th>9</th>\n      <td>NaN</td>\n      <td>NaN</td>\n      <td>10.0</td>\n      <td>NaN</td>\n      <td>10.0</td>\n      <td>8.0</td>\n    </tr>\n  </tbody>\n</table>\n</div>"
     },
     "metadata": {},
     "execution_count": 50
    }
   ],
   "source": [
    "## 8) Crear un Dataframe con 10 registros y 6 columnas llenas de números randomicos del 1 al 10 y seleccionar en un nuevo Dataframe solo los valores mayores a 7\n",
    "dataFrame8 = pd.DataFrame(np.random.randint(1, 11,60).reshape(10,6), columns=list('ABCDEF'))\n",
    "dataFrameFiltrado = dataFrame8.where(dataFrame8>7)\n",
    "dataFrameFiltrado\n"
   ]
  },
  {
   "cell_type": "code",
   "execution_count": 51,
   "metadata": {
    "tags": []
   },
   "outputs": [
    {
     "output_type": "stream",
     "name": "stdout",
     "text": "A     B     C     D    E     F\n0  1.0   9.0  10.0   NaN  8.0   8.0\n1  8.0   2.0   5.0   NaN  5.0   2.0\n2  9.0   4.0   1.0  10.0  1.0   3.0\n3  6.0   2.0   6.0   8.0  6.0  10.0\n4  4.0  10.0   5.0   1.0  NaN   6.0\n5  1.0   3.0   3.0   4.0  3.0   5.0\n6  8.0   5.0   5.0   3.0  9.0   NaN\n7  8.0  10.0  10.0   2.0  5.0   4.0\n8  4.0  10.0   5.0   1.0  9.0  10.0\n9  3.0   9.0   3.0  10.0  7.0   NaN\n\n     A     B     C     D    E     F\n0  1.0   9.0  10.0   0.0  8.0   8.0\n1  8.0   2.0   5.0   0.0  5.0   2.0\n2  9.0   4.0   1.0  10.0  1.0   3.0\n3  6.0   2.0   6.0   8.0  6.0  10.0\n4  4.0  10.0   5.0   1.0  0.0   6.0\n5  1.0   3.0   3.0   4.0  3.0   5.0\n6  8.0   5.0   5.0   3.0  9.0   0.0\n7  8.0  10.0  10.0   2.0  5.0   4.0\n8  4.0  10.0   5.0   1.0  9.0  10.0\n9  3.0   9.0   3.0  10.0  7.0   0.0\n"
    }
   ],
   "source": [
    "## 9) Crear un Dataframe con 10 registros y 6 columnas llenas de números randomicos del 1 al 10 o valores NaN. Luego llenar los valores NaN con 0.\n",
    "\n",
    "dataFrame9 = pd.DataFrame({'A':np.random.choice([1,2,3,4,5,6,7,8,9,10, float('nan') ],10),\n",
    "                       'B':np.random.choice([1,2,3,4,5,6,7,8,9,10, float('nan') ],10),\n",
    "                      'C':np.random.choice([1,2,3,4,5,6,7,8,9,10, float('nan') ],10),\n",
    "                      'D':np.random.choice([1,2,3,4,5,6,7,8,9,10, float('nan') ],10),\n",
    "                      'E':np.random.choice([1,2,3,4,5,6,7,8,9,10, float('nan') ],10),\n",
    "                      'F':np.random.choice([1,2,3,4,5,6,7,8,9,10, float('nan') ],10)})\n",
    "print(dataFrame9)\n",
    "\n",
    "dataFrame9 = dataFrame9.replace(np.nan, 0)\n",
    "\n",
    "print('')\n",
    "print(dataFrame9)\n"
   ]
  },
  {
   "cell_type": "code",
   "execution_count": 52,
   "metadata": {
    "tags": []
   },
   "outputs": [
    {
     "output_type": "stream",
     "name": "stdout",
     "text": "A  B   C   D  E  F\n0  10  8  10   5  8  7\n1  10  7   3  10  6  5\n2   5  8   8   3  8  7\n3   4  4   2   2  4  9\n4   7  6   5   2  7  4\n5   7  6   6   1  1  8\n6   5  9   5   3  1  3\n7   4  7   9   3  7  2\n8   6  3   5   3  7  4\n9   1  1   2   7  5  6\n\n Promedio o media\nA    5.9\nB    5.9\nC    5.5\nD    3.9\nE    5.4\nF    5.5\ndtype: float64\n\n Mediana\nA    5.5\nB    6.5\nC    5.0\nD    3.0\nE    6.5\nF    5.5\ndtype: float64\n"
    }
   ],
   "source": [
    "## 10) Crear un Dataframe con 10 registros y 6 columnas llenas de números randomicos del 1 al 10 y sacar la media, la mediana, el promedio\n",
    "dataFrame10 = pd.DataFrame(np.random.randint(1, 11,60).reshape(10,6), columns=list('ABCDEF'))\n",
    "print(dataFrame10)\n",
    "\n",
    "print('\\n Promedio o media')\n",
    "print(dataFrame10.mean())\n",
    "\n",
    "print('\\n Mediana')\n",
    "print(dataFrame10.median())\n"
   ]
  },
  {
   "cell_type": "code",
   "execution_count": 55,
   "metadata": {
    "tags": []
   },
   "outputs": [
    {
     "output_type": "stream",
     "name": "stdout",
     "text": "A   B  C  D   E   F\n0   7   2  5  2   9   2\n1   5   7  2  4   4   3\n2   2   9  2  7   3  10\n3   3   9  2  4  10   3\n4   4   9  8  5   8   1\n5   2   2  9  4   3   5\n6   5   1  8  4   4   5\n7  10   9  4  3   6   3\n8   7   4  5  4   7   5\n9   2  10  4  3   9   5\n\n    A   B   C   D   E  F\n0   2   9  10   7   7  9\n1   6   9   3  10   7  8\n2   8  10   9   3   4  5\n3   5  10   5   4   7  2\n4   8   5   2   2   7  2\n5  10   2  10   9  10  4\n6  10   8   2   3   9  1\n7   9   1   9   1   4  9\n8   7   5   6   9   5  6\n9   3   6   7   4  10  9\n\n Dataframe 1 y 2:\n    A   B   C   D   E   F\n0   7   2   5   2   9   2\n1   5   7   2   4   4   3\n2   2   9   2   7   3  10\n3   3   9   2   4  10   3\n4   4   9   8   5   8   1\n5   2   2   9   4   3   5\n6   5   1   8   4   4   5\n7  10   9   4   3   6   3\n8   7   4   5   4   7   5\n9   2  10   4   3   9   5\n0   2   9  10   7   7   9\n1   6   9   3  10   7   8\n2   8  10   9   3   4   5\n3   5  10   5   4   7   2\n4   8   5   2   2   7   2\n5  10   2  10   9  10   4\n6  10   8   2   3   9   1\n7   9   1   9   1   4   9\n8   7   5   6   9   5   6\n9   3   6   7   4  10   9\n"
    }
   ],
   "source": [
    "## 11) Crear un Dataframe con 10 registros y 6 columnas llenas de números randomicos del 1 al 10, luego crear otro dateframe con 10 registros y 6 columnas llenas de números randomicos del 1 al 10 y anadirlo al primer Dataframe\n",
    "dataFrame11_1 = pd.DataFrame(np.random.randint(1, 11,60).reshape(10,6), columns=list('ABCDEF'))\n",
    "print(dataFrame11_1)\n",
    "print('')\n",
    "dataFrame11_2 = pd.DataFrame(np.random.randint(1, 11,60).reshape(10,6), columns=list('ABCDEF'))\n",
    "print(dataFrame11_2)\n",
    "\n",
    "print('\\n Dataframe 1 y 2:')\n",
    "dataFrame11_1 = dataFrame11_1.append(dataFrame11_2)\n",
    "print(dataFrame11_1)\n"
   ]
  },
  {
   "cell_type": "code",
   "execution_count": 81,
   "metadata": {
    "tags": []
   },
   "outputs": [
    {
     "output_type": "stream",
     "name": "stdout",
     "text": "A       B       C       D       E       F\n0  texto4  texto3  texto7  texto4  texto7  texto9\n1  texto3  texto8  texto6  texto9  texto5  texto3\n2  texto9  texto5  texto2  texto9  texto9  texto9\n3  texto2  texto7  texto7  texto8  texto4  texto7\n4  texto6  texto7  texto7  texto8  texto5  texto5\n5  texto6  texto9  texto1  texto6  texto5  texto5\n6  texto8  texto9  texto1  texto9  texto2  texto8\n7  texto9  texto6  texto4  texto7  texto8  texto4\n8  texto5  texto5  texto1  texto6  texto9  texto4\n9  texto7  texto4  texto9  texto6  texto7  texto3\n              A             B             C       D       E       F\n0  texto4texto3  texto7texto4  texto7texto9  texto4  texto7  texto9\n1  texto3texto8  texto6texto9  texto5texto3  texto9  texto5  texto3\n2  texto9texto5  texto2texto9  texto9texto9  texto9  texto9  texto9\n3  texto2texto7  texto7texto8  texto4texto7  texto8  texto4  texto7\n4  texto6texto7  texto7texto8  texto5texto5  texto8  texto5  texto5\n5  texto6texto9  texto1texto6  texto5texto5  texto6  texto5  texto5\n6  texto8texto9  texto1texto9  texto2texto8  texto9  texto2  texto8\n7  texto9texto6  texto4texto7  texto8texto4  texto7  texto8  texto4\n8  texto5texto5  texto1texto6  texto9texto4  texto6  texto9  texto4\n9  texto7texto4  texto9texto6  texto7texto3  texto6  texto7  texto3\n"
    }
   ],
   "source": [
    "## 12) Crear un Dataframe con 10 registros y 6 columnas llenas de strings. Luego, unir la columna 1 y 2 en una sola, la 3 y 4, y la 5 y 6 concatenando su texto.\n",
    "strings = ['texto1','texto2','texto3','texto4','texto5','texto6','texto7','texto8','texto9',]\n",
    "\n",
    "dataFrame12 = pd.DataFrame({'A':np.random.choice(strings,10),\n",
    "                       'B':np.random.choice(strings,10),\n",
    "                      'C':np.random.choice(strings,10),\n",
    "                      'D':np.random.choice(strings,10),\n",
    "                      'E':np.random.choice(strings,10),\n",
    "                      'F':np.random.choice(strings,10)})\n",
    "\n",
    "print(dataFrame12)\n",
    "\n",
    "dataFrame12['A'] = dataFrame12['A']+dataFrame12['B']\n",
    "dataFrame12['B'] = dataFrame12['C']+dataFrame12['D']\n",
    "dataFrame12['C'] = dataFrame12['E']+dataFrame12['F']\n",
    "\n",
    "\n",
    "print(dataFrame12)"
   ]
  },
  {
   "cell_type": "code",
   "execution_count": 68,
   "metadata": {
    "tags": []
   },
   "outputs": [
    {
     "output_type": "stream",
     "name": "stdout",
     "text": "A   B  C   D   E   F\n0   6   4  9   9   8   3\n1   8   6  2   3   9  10\n2   1   7  8   8   2  10\n3   6   6  1   4   1   9\n4  10  10  7   2   4   9\n5   7   5  7   5   9   4\n6   2   8  3   1   3   6\n7   4   7  3   5   7  10\n8   3   9  7   4   1   9\n9   5   3  6  10  10   8\n\n Conteo columna A\n6     2\n10    1\n8     1\n7     1\n5     1\n4     1\n3     1\n2     1\n1     1\nName: A, dtype: int64\n\n Conteo columna B\n7     2\n6     2\n10    1\n9     1\n8     1\n5     1\n4     1\n3     1\nName: B, dtype: int64\n\n Conteo columna C\n7    3\n3    2\n9    1\n8    1\n6    1\n2    1\n1    1\nName: C, dtype: int64\n\n Conteo columna D\n5     2\n4     2\n10    1\n9     1\n8     1\n3     1\n2     1\n1     1\nName: D, dtype: int64\n\n Conteo columna E\n9     2\n1     2\n10    1\n8     1\n7     1\n4     1\n3     1\n2     1\nName: E, dtype: int64\n\n Conteo columna F\n10    3\n9     3\n8     1\n6     1\n4     1\n3     1\nName: F, dtype: int64\n"
    }
   ],
   "source": [
    "## 13) Crear un Dataframe con 10 registros y 6 columnas llenas de números randomicos del 1 al 10 enteros, obtener la frecuencia de repeticion de los numeros enteros en cada columna\n",
    "\n",
    "dataFrame13 = pd.DataFrame(np.random.randint(1, 11,60).reshape(10,6), columns=list('ABCDEF'))\n",
    "print(dataFrame13)\n",
    "\n",
    "for column in dataFrame13:\n",
    "    print('\\n Conteo columna '+column)\n",
    "    print(dataFrame13[column].value_counts())\n"
   ]
  },
  {
   "cell_type": "code",
   "execution_count": 80,
   "metadata": {
    "tags": []
   },
   "outputs": [
    {
     "output_type": "stream",
     "name": "stdout",
     "text": "A   B  C\n0   6  10  5\n1   9   1  1\n2   5  10  6\n3   9   6  9\n4   3   8  5\n5   3   3  9\n6  10   3  2\n7   5   5  1\n8   5   2  8\n9   5   8  4\n    A   B  C  calculada\n0   6  10  5  12.000000\n1   9   1  1   9.000000\n2   5  10  6   8.333333\n3   9   6  9   6.000000\n4   3   8  5   4.800000\n5   3   3  9   1.000000\n6  10   3  2  15.000000\n7   5   5  1  25.000000\n8   5   2  8   1.250000\n9   5   8  4  10.000000\n"
    }
   ],
   "source": [
    "## 14) Crear un Dataframe con 10 registros y 3 columnas, A B C, llenas de números randomicos del 1 al 10 enteros. Crear una nueva columna con el calculo por fila (A * B ) / C\n",
    "\n",
    "dataFrame14 = pd.DataFrame(np.random.randint(1, 11,30).reshape(10,3), columns=list('ABC'))\n",
    "print(dataFrame14)\n",
    "\n",
    "dataFrame14['calculada'] = (dataFrame14['A'] * dataFrame14['B'] ) /  dataFrame14['C']\n",
    "print(dataFrame14)"
   ]
  }
 ]
}