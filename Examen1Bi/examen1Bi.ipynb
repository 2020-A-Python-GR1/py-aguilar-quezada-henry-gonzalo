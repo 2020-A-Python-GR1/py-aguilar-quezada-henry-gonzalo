{
 "metadata": {
  "language_info": {
   "codemirror_mode": {
    "name": "ipython",
    "version": 3
   },
   "file_extension": ".py",
   "mimetype": "text/x-python",
   "name": "python",
   "nbconvert_exporter": "python",
   "pygments_lexer": "ipython3",
   "version": 3
  },
  "orig_nbformat": 2,
  "kernelspec": {
   "name": "python_defaultSpec_1596290866263",
   "display_name": "Python 3.7.7 64-bit ('base': conda)"
  }
 },
 "nbformat": 4,
 "nbformat_minor": 2,
 "cells": [
  {
   "cell_type": "code",
   "execution_count": 2,
   "metadata": {},
   "outputs": [],
   "source": [
    "# 1) Examen\n",
    "import numpy as np"
   ]
  },
  {
   "cell_type": "code",
   "execution_count": 4,
   "metadata": {},
   "outputs": [
    {
     "output_type": "execute_result",
     "data": {
      "text/plain": "array([0., 0., 0., 0., 0., 0., 0., 0., 0., 0.])"
     },
     "metadata": {},
     "execution_count": 4
    }
   ],
   "source": [
    "## 2) Crear un vector de ceros de tamaño 10\n",
    "vector_zeros = np.zeros(10)\n",
    "vector_zeros"
   ]
  },
  {
   "cell_type": "code",
   "execution_count": 5,
   "metadata": {},
   "outputs": [
    {
     "output_type": "execute_result",
     "data": {
      "text/plain": "array([0., 0., 0., 0., 1., 0., 0., 0., 0., 0.])"
     },
     "metadata": {},
     "execution_count": 5
    }
   ],
   "source": [
    "## 3) Crear un vector de ceros de tamaño 10 y el de la posicion 5 sea igual a 1\n",
    "vector_zeros = np.zeros(10)\n",
    "vector_zeros[4] = 1\n",
    "vector_zeros"
   ]
  },
  {
   "cell_type": "code",
   "execution_count": 10,
   "metadata": {},
   "outputs": [
    {
     "output_type": "execute_result",
     "data": {
      "text/plain": "array([49, 48, 47, 46, 45, 44, 43, 42, 41, 40, 39, 38, 37, 36, 35, 34, 33,\n       32, 31, 30, 29, 28, 27, 26, 25, 24, 23, 22, 21, 20, 19, 18, 17, 16,\n       15, 14, 13, 12, 11, 10,  9,  8,  7,  6,  5,  4,  3,  2,  1,  0])"
     },
     "metadata": {},
     "execution_count": 10
    }
   ],
   "source": [
    "## 4) Cambiar el orden de un vector de 50 elementos, el de la posicion 1 es el de la 50 etc.\n",
    "vector_zeros = np.arange(50)\n",
    "vector_zeros = vector_zeros[::-1]\n",
    "vector_zeros\n",
    "\n"
   ]
  },
  {
   "cell_type": "code",
   "execution_count": 11,
   "metadata": {},
   "outputs": [
    {
     "output_type": "execute_result",
     "data": {
      "text/plain": "array([[0, 1, 2],\n       [3, 4, 5],\n       [6, 7, 8]])"
     },
     "metadata": {},
     "execution_count": 11
    }
   ],
   "source": [
    "## 5) Crear una matriz de 3 x 3 con valores del cero al 8\n",
    "vectorN = np.arange(9)\n",
    "vectorN.reshape(3,3)\n"
   ]
  },
  {
   "cell_type": "code",
   "execution_count": 28,
   "metadata": {},
   "outputs": [
    {
     "output_type": "execute_result",
     "data": {
      "text/plain": "array([1, 2, 4])"
     },
     "metadata": {},
     "execution_count": 28
    }
   ],
   "source": [
    "## 6) Encontrar los indices que no sean cero en un arreglo\n",
    "arreglo = [1,2,0,0,4,0]\n",
    "arreglo = np.array(arreglo)\n",
    "muestra = arreglo != 0\n",
    "arreglo[muestra]"
   ]
  },
  {
   "cell_type": "code",
   "execution_count": 30,
   "metadata": {},
   "outputs": [
    {
     "output_type": "execute_result",
     "data": {
      "text/plain": "array([[1., 0., 0.],\n       [0., 1., 0.],\n       [0., 0., 1.]])"
     },
     "metadata": {},
     "execution_count": 30
    }
   ],
   "source": [
    "## 7) Crear una matriz de identidad 3 x 3 \n",
    "matriz_identidad = np.identity(3)\n",
    "matriz_identidad"
   ]
  },
  {
   "cell_type": "code",
   "execution_count": 33,
   "metadata": {},
   "outputs": [
    {
     "output_type": "execute_result",
     "data": {
      "text/plain": "array([[[17, 19, 18],\n        [16, 15, 15],\n        [16, 19, 13]],\n\n       [[14, 19, 10],\n        [18, 14, 17],\n        [11, 15, 14]],\n\n       [[13, 13, 10],\n        [15, 14, 16],\n        [19, 15, 12]]])"
     },
     "metadata": {},
     "execution_count": 33
    }
   ],
   "source": [
    "## 8) Crear una matriz 3 x 3 x 3 con valores randomicos\n",
    "arreglo_random = np.random.randint(\n",
    "    10, #[-9, 2[\n",
    "    20,\n",
    "    [3,3,3]\n",
    ")\n",
    "arreglo_random"
   ]
  },
  {
   "cell_type": "code",
   "execution_count": 42,
   "metadata": {
    "tags": []
   },
   "outputs": [
    {
     "output_type": "stream",
     "name": "stdout",
     "text": "[[ 1 58 43 81 59 62 70 65 62 16]\n [75 82 32 58 75 16 95 39 71 85]\n [92 83 11 56 24 85 92 38 89 73]\n [11 88 96 24 18 58 86 84 89 19]\n [84 15 90 42  1 19 23 79  8 53]\n [62 30 39  5 25 80 91 46 71 95]\n [10 83 92 24 88 45 41 90 39 56]\n [68 59 11 45 39 37 58 99 61 88]\n [68 98 52 47 94 45 49 57 20 52]\n [ 1 99 52 50 75 13 98 69 55 60]]\n1\n99\n"
    }
   ],
   "source": [
    "## 9) Crear una matriz 10 x 10 y encontrar el mayor y el menor\n",
    "arreglo_random = np.random.randint(\n",
    "    0, #[-9, 2[\n",
    "    100,\n",
    "    [10,10]\n",
    ")\n",
    "print(arreglo_random)\n",
    "print(arreglo_random.min())\n",
    "print(arreglo_random.max())"
   ]
  },
  {
   "cell_type": "code",
   "execution_count": 62,
   "metadata": {
    "tags": []
   },
   "outputs": [
    {
     "output_type": "stream",
     "name": "stdout",
     "text": "256 colores\n"
    }
   ],
   "source": [
    "## 10) Sacar los colores RGB unicos en una imagen (cuales rgb existen ej: 0, 0, 0 - 255,255,255 -> 2 colores)\n",
    "from scipy import ndimage,misc\n",
    "mapache = misc.face()\n",
    "unicos = np.unique(mapache)\n",
    "print(f\"{len(unicos)} colores\")"
   ]
  },
  {
   "cell_type": "code",
   "execution_count": 70,
   "metadata": {},
   "outputs": [],
   "source": [
    "## 11) ¿Como crear una serie de una lista, diccionario o arreglo?\n",
    "import pandas as pd\n",
    "mylist = list('abcedfghijklmnopqrstuvwxyz')\n",
    "myarr = np.arange(26)\n",
    "mydict = dict(zip(mylist, myarr))\n",
    "serieLista = pd.Series(mylist)\n",
    "serieArreglo = pd.Series(myarr)\n",
    "serieDict = pd.Series(mydict)"
   ]
  },
  {
   "cell_type": "code",
   "execution_count": 72,
   "metadata": {},
   "outputs": [
    {
     "output_type": "execute_result",
     "data": {
      "text/plain": "    0\na   0\nb   1\nc   2\ne   3\nd   4\nf   5\ng   6\nh   7\ni   8\nj   9\nk  10\nl  11\nm  12\nn  13\no  14\np  15\nq  16\nr  17\ns  18\nt  19\nu  20\nv  21\nw  22\nx  23\ny  24\nz  25",
      "text/html": "<div>\n<style scoped>\n    .dataframe tbody tr th:only-of-type {\n        vertical-align: middle;\n    }\n\n    .dataframe tbody tr th {\n        vertical-align: top;\n    }\n\n    .dataframe thead th {\n        text-align: right;\n    }\n</style>\n<table border=\"1\" class=\"dataframe\">\n  <thead>\n    <tr style=\"text-align: right;\">\n      <th></th>\n      <th>0</th>\n    </tr>\n  </thead>\n  <tbody>\n    <tr>\n      <th>a</th>\n      <td>0</td>\n    </tr>\n    <tr>\n      <th>b</th>\n      <td>1</td>\n    </tr>\n    <tr>\n      <th>c</th>\n      <td>2</td>\n    </tr>\n    <tr>\n      <th>e</th>\n      <td>3</td>\n    </tr>\n    <tr>\n      <th>d</th>\n      <td>4</td>\n    </tr>\n    <tr>\n      <th>f</th>\n      <td>5</td>\n    </tr>\n    <tr>\n      <th>g</th>\n      <td>6</td>\n    </tr>\n    <tr>\n      <th>h</th>\n      <td>7</td>\n    </tr>\n    <tr>\n      <th>i</th>\n      <td>8</td>\n    </tr>\n    <tr>\n      <th>j</th>\n      <td>9</td>\n    </tr>\n    <tr>\n      <th>k</th>\n      <td>10</td>\n    </tr>\n    <tr>\n      <th>l</th>\n      <td>11</td>\n    </tr>\n    <tr>\n      <th>m</th>\n      <td>12</td>\n    </tr>\n    <tr>\n      <th>n</th>\n      <td>13</td>\n    </tr>\n    <tr>\n      <th>o</th>\n      <td>14</td>\n    </tr>\n    <tr>\n      <th>p</th>\n      <td>15</td>\n    </tr>\n    <tr>\n      <th>q</th>\n      <td>16</td>\n    </tr>\n    <tr>\n      <th>r</th>\n      <td>17</td>\n    </tr>\n    <tr>\n      <th>s</th>\n      <td>18</td>\n    </tr>\n    <tr>\n      <th>t</th>\n      <td>19</td>\n    </tr>\n    <tr>\n      <th>u</th>\n      <td>20</td>\n    </tr>\n    <tr>\n      <th>v</th>\n      <td>21</td>\n    </tr>\n    <tr>\n      <th>w</th>\n      <td>22</td>\n    </tr>\n    <tr>\n      <th>x</th>\n      <td>23</td>\n    </tr>\n    <tr>\n      <th>y</th>\n      <td>24</td>\n    </tr>\n    <tr>\n      <th>z</th>\n      <td>25</td>\n    </tr>\n  </tbody>\n</table>\n</div>"
     },
     "metadata": {},
     "execution_count": 72
    }
   ],
   "source": [
    "## 12) ¿Como convertir el indice de una serie en una columna de un DataFrame?\n",
    "import pandas as pd\n",
    "mylist = list('abcedfghijklmnopqrstuvwxyz')\n",
    "myarr = np.arange(26)\n",
    "mydict = dict(zip(mylist, myarr))\n",
    "ser = pd.Series(mydict) \n",
    "dataFrame = pd.DataFrame(data=ser)\n",
    "dataFrame"
   ]
  },
  {
   "cell_type": "code",
   "execution_count": 76,
   "metadata": {},
   "outputs": [
    {
     "output_type": "execute_result",
     "data": {
      "text/plain": "  0  1  2  3  4  5  6  7  8  9   ...  16  17  18  19  20  21  22  23  24  25\n0  a  b  c  e  d  f  g  h  i  j  ...   q   r   s   t   u   v   w   x   y   z\n1  0  1  2  3  4  5  6  7  8  9  ...  16  17  18  19  20  21  22  23  24  25\n\n[2 rows x 26 columns]",
      "text/html": "<div>\n<style scoped>\n    .dataframe tbody tr th:only-of-type {\n        vertical-align: middle;\n    }\n\n    .dataframe tbody tr th {\n        vertical-align: top;\n    }\n\n    .dataframe thead th {\n        text-align: right;\n    }\n</style>\n<table border=\"1\" class=\"dataframe\">\n  <thead>\n    <tr style=\"text-align: right;\">\n      <th></th>\n      <th>0</th>\n      <th>1</th>\n      <th>2</th>\n      <th>3</th>\n      <th>4</th>\n      <th>5</th>\n      <th>6</th>\n      <th>7</th>\n      <th>8</th>\n      <th>9</th>\n      <th>...</th>\n      <th>16</th>\n      <th>17</th>\n      <th>18</th>\n      <th>19</th>\n      <th>20</th>\n      <th>21</th>\n      <th>22</th>\n      <th>23</th>\n      <th>24</th>\n      <th>25</th>\n    </tr>\n  </thead>\n  <tbody>\n    <tr>\n      <th>0</th>\n      <td>a</td>\n      <td>b</td>\n      <td>c</td>\n      <td>e</td>\n      <td>d</td>\n      <td>f</td>\n      <td>g</td>\n      <td>h</td>\n      <td>i</td>\n      <td>j</td>\n      <td>...</td>\n      <td>q</td>\n      <td>r</td>\n      <td>s</td>\n      <td>t</td>\n      <td>u</td>\n      <td>v</td>\n      <td>w</td>\n      <td>x</td>\n      <td>y</td>\n      <td>z</td>\n    </tr>\n    <tr>\n      <th>1</th>\n      <td>0</td>\n      <td>1</td>\n      <td>2</td>\n      <td>3</td>\n      <td>4</td>\n      <td>5</td>\n      <td>6</td>\n      <td>7</td>\n      <td>8</td>\n      <td>9</td>\n      <td>...</td>\n      <td>16</td>\n      <td>17</td>\n      <td>18</td>\n      <td>19</td>\n      <td>20</td>\n      <td>21</td>\n      <td>22</td>\n      <td>23</td>\n      <td>24</td>\n      <td>25</td>\n    </tr>\n  </tbody>\n</table>\n<p>2 rows × 26 columns</p>\n</div>"
     },
     "metadata": {},
     "execution_count": 76
    }
   ],
   "source": [
    "## 13) ¿Como combinar varias series para hacer un DataFrame?\n",
    "\n",
    "ser1 = pd.Series(list('abcedfghijklmnopqrstuvwxyz'))\n",
    "ser2 = pd.Series(np.arange(26))\n",
    "dataFrame = pd.DataFrame(data=[ser1,ser2])\n",
    "dataFrame"
   ]
  },
  {
   "cell_type": "code",
   "execution_count": 123,
   "metadata": {
    "tags": []
   },
   "outputs": [
    {
     "output_type": "stream",
     "name": "stdout",
     "text": "0    1\n1    2\n2    3\ndtype: int64\n"
    }
   ],
   "source": [
    "## 14) ¿Como obtener los items que esten en una serie A y no en una serie B?\n",
    "\n",
    "ser1 = pd.Series([1, 2, 3, 4, 5])\n",
    "ser2 = pd.Series([4, 5, 6, 7, 8])\n",
    "result = ser1[~ser1.isin(ser2)]\n",
    "print(result)"
   ]
  },
  {
   "cell_type": "code",
   "execution_count": 128,
   "metadata": {
    "tags": []
   },
   "outputs": [
    {
     "output_type": "stream",
     "name": "stdout",
     "text": "0    1\n1    2\n2    3\n5    6\n6    7\n7    8\ndtype: int64\n"
    }
   ],
   "source": [
    "## 15) ¿Como obtener los items que no son comunes en una serie A y serie B?\n",
    "ser1 = pd.Series([1, 2, 3, 4, 5])\n",
    "ser2 = pd.Series([4, 5, 6, 7, 8])\n",
    "sr11 = pd.Series(np.union1d(ser1, ser2))\n",
    "sr22 = pd.Series(np.intersect1d(ser1, ser2))\n",
    "result = sr11[~sr11.isin(sr22)]\n",
    "print(result)"
   ]
  },
  {
   "cell_type": "code",
   "execution_count": 133,
   "metadata": {},
   "outputs": [
    {
     "output_type": "execute_result",
     "data": {
      "text/plain": "d    7\ne    5\nc    4\ng    4\na    3\nb    3\nh    2\nf    2\ndtype: int64"
     },
     "metadata": {},
     "execution_count": 133
    }
   ],
   "source": [
    "## 16) ¿Como obtener el numero de veces que se repite un valor en una serie?\n",
    "ser = pd.Series(np.take(list('abcdefgh'), np.random.randint(8, size=30)))\n",
    "ser.value_counts()"
   ]
  },
  {
   "cell_type": "code",
   "execution_count": 165,
   "metadata": {
    "tags": []
   },
   "outputs": [
    {
     "output_type": "stream",
     "name": "stdout",
     "text": "3    2\n2    2\ndtype: int64\n0    3\n1    2\n2    4\n3    2\n4    3\ndtype: int64\n0    3\n1    2\n2    4\n3    0\n4    3\ndtype: int64\n"
    }
   ],
   "source": [
    "## 17) ¿Como mantener los 2 valores mas repetidos de una serie, y a los demas valores cambiarles por 0 ?\n",
    "\n",
    "np.random.RandomState(100)\n",
    "ser = pd.Series(np.random.randint(1, 5, [5]))\n",
    "mas_repetidos = ser.value_counts()\n",
    "print(mas_repetidos)\n",
    "print(ser)\n",
    "\n",
    "print(ser.replace(mas_repetidos,0))\n"
   ]
  },
  {
   "cell_type": "code",
   "execution_count": 175,
   "metadata": {},
   "outputs": [
    {
     "output_type": "execute_result",
     "data": {
      "text/plain": "    0\n0   1\n1   4\n2   4\n3   1\n4   4\n5   9\n6   3\n7   3\n8   4\n9   4\n10  9\n11  8\n12  4\n13  3\n14  1\n15  7\n16  2\n17  7\n18  6\n19  3\n20  6\n21  2\n22  6\n23  4\n24  2\n25  3\n26  8\n27  4\n28  6\n29  3\n30  6\n31  8\n32  7\n33  4\n34  8",
      "text/html": "<div>\n<style scoped>\n    .dataframe tbody tr th:only-of-type {\n        vertical-align: middle;\n    }\n\n    .dataframe tbody tr th {\n        vertical-align: top;\n    }\n\n    .dataframe thead th {\n        text-align: right;\n    }\n</style>\n<table border=\"1\" class=\"dataframe\">\n  <thead>\n    <tr style=\"text-align: right;\">\n      <th></th>\n      <th>0</th>\n    </tr>\n  </thead>\n  <tbody>\n    <tr>\n      <th>0</th>\n      <td>1</td>\n    </tr>\n    <tr>\n      <th>1</th>\n      <td>4</td>\n    </tr>\n    <tr>\n      <th>2</th>\n      <td>4</td>\n    </tr>\n    <tr>\n      <th>3</th>\n      <td>1</td>\n    </tr>\n    <tr>\n      <th>4</th>\n      <td>4</td>\n    </tr>\n    <tr>\n      <th>5</th>\n      <td>9</td>\n    </tr>\n    <tr>\n      <th>6</th>\n      <td>3</td>\n    </tr>\n    <tr>\n      <th>7</th>\n      <td>3</td>\n    </tr>\n    <tr>\n      <th>8</th>\n      <td>4</td>\n    </tr>\n    <tr>\n      <th>9</th>\n      <td>4</td>\n    </tr>\n    <tr>\n      <th>10</th>\n      <td>9</td>\n    </tr>\n    <tr>\n      <th>11</th>\n      <td>8</td>\n    </tr>\n    <tr>\n      <th>12</th>\n      <td>4</td>\n    </tr>\n    <tr>\n      <th>13</th>\n      <td>3</td>\n    </tr>\n    <tr>\n      <th>14</th>\n      <td>1</td>\n    </tr>\n    <tr>\n      <th>15</th>\n      <td>7</td>\n    </tr>\n    <tr>\n      <th>16</th>\n      <td>2</td>\n    </tr>\n    <tr>\n      <th>17</th>\n      <td>7</td>\n    </tr>\n    <tr>\n      <th>18</th>\n      <td>6</td>\n    </tr>\n    <tr>\n      <th>19</th>\n      <td>3</td>\n    </tr>\n    <tr>\n      <th>20</th>\n      <td>6</td>\n    </tr>\n    <tr>\n      <th>21</th>\n      <td>2</td>\n    </tr>\n    <tr>\n      <th>22</th>\n      <td>6</td>\n    </tr>\n    <tr>\n      <th>23</th>\n      <td>4</td>\n    </tr>\n    <tr>\n      <th>24</th>\n      <td>2</td>\n    </tr>\n    <tr>\n      <th>25</th>\n      <td>3</td>\n    </tr>\n    <tr>\n      <th>26</th>\n      <td>8</td>\n    </tr>\n    <tr>\n      <th>27</th>\n      <td>4</td>\n    </tr>\n    <tr>\n      <th>28</th>\n      <td>6</td>\n    </tr>\n    <tr>\n      <th>29</th>\n      <td>3</td>\n    </tr>\n    <tr>\n      <th>30</th>\n      <td>6</td>\n    </tr>\n    <tr>\n      <th>31</th>\n      <td>8</td>\n    </tr>\n    <tr>\n      <th>32</th>\n      <td>7</td>\n    </tr>\n    <tr>\n      <th>33</th>\n      <td>4</td>\n    </tr>\n    <tr>\n      <th>34</th>\n      <td>8</td>\n    </tr>\n  </tbody>\n</table>\n</div>"
     },
     "metadata": {},
     "execution_count": 175
    }
   ],
   "source": [
    "## 18) ¿Como transformar una serie de un arreglo de numpy a un DataFrame con un `shape` definido?\n",
    "\n",
    "ser = pd.Series(np.random.randint(1, 10, 35))\n",
    "\n",
    "dataFrame = pd.DataFrame(data=ser)\n",
    "dataFrame"
   ]
  },
  {
   "cell_type": "code",
   "execution_count": 176,
   "metadata": {},
   "outputs": [],
   "source": [
    "## 19) ¿Obtener los valores de una serie conociendo la posicion por indice?\n",
    "\n",
    "ser = pd.Series(list('abcdefghijklmnopqrstuvwxyz'))\n",
    "pos = [0, 4, 8, 14, 20]\n",
    "# a e i o u\n"
   ]
  },
  {
   "cell_type": "code",
   "execution_count": null,
   "metadata": {},
   "outputs": [],
   "source": [
    "## 20) ¿Como anadir series vertical u horizontalmente a un DataFrame?\n",
    "\n",
    "ser1 = pd.Series(range(5))\n",
    "ser2 = pd.Series(list('abcde'))"
   ]
  }
 ]
}