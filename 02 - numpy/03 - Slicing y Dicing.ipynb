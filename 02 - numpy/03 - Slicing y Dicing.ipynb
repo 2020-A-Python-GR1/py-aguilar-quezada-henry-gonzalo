{
 "cells": [
  {
   "cell_type": "code",
   "execution_count": 1,
   "metadata": {},
   "outputs": [],
   "source": [
    "import numpy as np"
   ]
  },
  {
   "cell_type": "code",
   "execution_count": 3,
   "metadata": {},
   "outputs": [
    {
     "output_type": "execute_result",
     "data": {
      "text/plain": "array([  0,   1,   4,   9,  16,  25,  36,  49,  64,  81, 100])"
     },
     "metadata": {},
     "execution_count": 3
    }
   ],
   "source": [
    "arreglo = np.arange(11) ** 2\n",
    "arreglo"
   ]
  },
  {
   "cell_type": "code",
   "execution_count": 4,
   "metadata": {},
   "outputs": [
    {
     "output_type": "execute_result",
     "data": {
      "text/plain": "array([ 0,  1,  4,  9, 16, 25, 36])"
     },
     "metadata": {},
     "execution_count": 4
    }
   ],
   "source": [
    "arreglo[0:7]"
   ]
  },
  {
   "cell_type": "code",
   "execution_count": 6,
   "metadata": {},
   "outputs": [
    {
     "output_type": "execute_result",
     "data": {
      "text/plain": "array([25, 36, 49, 64, 81])"
     },
     "metadata": {},
     "execution_count": 6
    }
   ],
   "source": [
    "arreglo[-6:-1]"
   ]
  },
  {
   "cell_type": "code",
   "execution_count": 7,
   "metadata": {},
   "outputs": [
    {
     "output_type": "execute_result",
     "data": {
      "text/plain": "array([ 4,  9, 16, 25, 36, 49])"
     },
     "metadata": {},
     "execution_count": 7
    }
   ],
   "source": [
    "arreglo[2:-3]"
   ]
  },
  {
   "cell_type": "code",
   "execution_count": 8,
   "metadata": {},
   "outputs": [
    {
     "output_type": "execute_result",
     "data": {
      "text/plain": "array([  4,   9,  16,  25,  36,  49,  64,  81, 100])"
     },
     "metadata": {},
     "execution_count": 8
    }
   ],
   "source": [
    "arreglo[2:]"
   ]
  },
  {
   "cell_type": "code",
   "execution_count": 9,
   "metadata": {},
   "outputs": [
    {
     "output_type": "execute_result",
     "data": {
      "text/plain": "array([ 0,  1,  4,  9, 16, 25, 36, 49])"
     },
     "metadata": {},
     "execution_count": 9
    }
   ],
   "source": [
    "arreglo[:-3]"
   ]
  },
  {
   "cell_type": "code",
   "execution_count": 10,
   "metadata": {},
   "outputs": [
    {
     "output_type": "execute_result",
     "data": {
      "text/plain": "array([  0,   1,   4,   9,  16,  25,  36,  49,  64,  81, 100])"
     },
     "metadata": {},
     "execution_count": 10
    }
   ],
   "source": [
    "arreglo[:]"
   ]
  },
  {
   "cell_type": "code",
   "execution_count": 11,
   "metadata": {},
   "outputs": [
    {
     "output_type": "execute_result",
     "data": {
      "text/plain": "array([ 0,  1,  4,  9, 16, 25])"
     },
     "metadata": {},
     "execution_count": 11
    }
   ],
   "source": [
    "arreglo[0:6]"
   ]
  },
  {
   "cell_type": "code",
   "execution_count": 12,
   "metadata": {},
   "outputs": [
    {
     "output_type": "execute_result",
     "data": {
      "text/plain": "array([ 0,  4, 16])"
     },
     "metadata": {},
     "execution_count": 12
    }
   ],
   "source": [
    "arreglo[0:6:2]"
   ]
  },
  {
   "cell_type": "code",
   "execution_count": 13,
   "metadata": {},
   "outputs": [
    {
     "output_type": "execute_result",
     "data": {
      "text/plain": "array([  0,   4,  16,  36,  64, 100])"
     },
     "metadata": {},
     "execution_count": 13
    }
   ],
   "source": [
    "arreglo[::2]"
   ]
  },
  {
   "cell_type": "code",
   "execution_count": 15,
   "metadata": {},
   "outputs": [
    {
     "output_type": "execute_result",
     "data": {
      "text/plain": "array([100,  81,  64,  49,  36,  25,  16,   9,   4,   1,   0])"
     },
     "metadata": {},
     "execution_count": 15
    }
   ],
   "source": [
    "arreglo[::-1]"
   ]
  },
  {
   "cell_type": "code",
   "execution_count": null,
   "metadata": {},
   "outputs": [],
   "source": []
  }
 ],
 "metadata": {
  "language_info": {
   "codemirror_mode": {
    "name": "ipython",
    "version": 3
   },
   "file_extension": ".py",
   "mimetype": "text/x-python",
   "name": "python",
   "nbconvert_exporter": "python",
   "pygments_lexer": "ipython3",
   "version": "3.7.6-final"
  },
  "orig_nbformat": 2,
  "kernelspec": {
   "name": "python3",
   "display_name": "Python 3"
  }
 },
 "nbformat": 4,
 "nbformat_minor": 2
}